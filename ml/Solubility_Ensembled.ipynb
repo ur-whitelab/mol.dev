{
  "cells": [
    {
      "cell_type": "code",
      "execution_count": null,
      "metadata": {
        "colab": {
          "base_uri": "https://localhost:8080/"
        },
        "id": "k7SrXMoJIsoU",
        "outputId": "a109a184-5dce-4e4a-a351-79f1381d24fe"
      },
      "outputs": [
        {
          "output_type": "stream",
          "name": "stdout",
          "text": [
            "Looking in indexes: https://pypi.org/simple, https://us-python.pkg.dev/colab-wheels/public/simple/\n",
            "Collecting selfies\n",
            "  Downloading selfies-2.1.0-py3-none-any.whl (35 kB)\n",
            "Collecting exmol\n",
            "  Downloading exmol-1.1.0-py3-none-any.whl (22 kB)\n",
            "Requirement already satisfied: tensorflow in /usr/local/lib/python3.7/dist-packages (2.8.0+zzzcolab20220506162203)\n",
            "Collecting tensorflowjs\n",
            "  Downloading tensorflowjs-3.18.0-py3-none-any.whl (77 kB)\n",
            "\u001b[K     |████████████████████████████████| 77 kB 2.0 MB/s \n",
            "\u001b[?25hCollecting kdeepensemble\n",
            "  Downloading kdeepensemble-0.3.2-py3-none-any.whl (8.1 kB)\n",
            "Requirement already satisfied: tqdm in /usr/local/lib/python3.7/dist-packages (4.64.0)\n",
            "Collecting skunk>=0.4.0\n",
            "  Downloading skunk-0.4.0-py3-none-any.whl (5.6 kB)\n",
            "Requirement already satisfied: numpy in /usr/local/lib/python3.7/dist-packages (from exmol) (1.21.6)\n",
            "Requirement already satisfied: requests in /usr/local/lib/python3.7/dist-packages (from exmol) (2.23.0)\n",
            "Collecting ratelimit\n",
            "  Downloading ratelimit-2.2.1.tar.gz (5.3 kB)\n",
            "Collecting rdkit-pypi\n",
            "  Downloading rdkit_pypi-2022.3.2.1-cp37-cp37m-manylinux_2_17_x86_64.manylinux2014_x86_64.whl (22.7 MB)\n",
            "\u001b[K     |████████████████████████████████| 22.7 MB 1.4 MB/s \n",
            "\u001b[?25hRequirement already satisfied: scikit-learn in /usr/local/lib/python3.7/dist-packages (from exmol) (1.0.2)\n",
            "Requirement already satisfied: matplotlib in /usr/local/lib/python3.7/dist-packages (from skunk>=0.4.0->exmol) (3.2.2)\n",
            "Requirement already satisfied: astunparse>=1.6.0 in /usr/local/lib/python3.7/dist-packages (from tensorflow) (1.6.3)\n",
            "Requirement already satisfied: typing-extensions>=3.6.6 in /usr/local/lib/python3.7/dist-packages (from tensorflow) (4.2.0)\n",
            "Requirement already satisfied: protobuf>=3.9.2 in /usr/local/lib/python3.7/dist-packages (from tensorflow) (3.17.3)\n",
            "Requirement already satisfied: setuptools in /usr/local/lib/python3.7/dist-packages (from tensorflow) (57.4.0)\n",
            "Requirement already satisfied: keras<2.9,>=2.8.0rc0 in /usr/local/lib/python3.7/dist-packages (from tensorflow) (2.8.0)\n",
            "Requirement already satisfied: gast>=0.2.1 in /usr/local/lib/python3.7/dist-packages (from tensorflow) (0.5.3)\n",
            "Requirement already satisfied: flatbuffers>=1.12 in /usr/local/lib/python3.7/dist-packages (from tensorflow) (2.0)\n",
            "Requirement already satisfied: keras-preprocessing>=1.1.1 in /usr/local/lib/python3.7/dist-packages (from tensorflow) (1.1.2)\n",
            "Requirement already satisfied: wrapt>=1.11.0 in /usr/local/lib/python3.7/dist-packages (from tensorflow) (1.14.1)\n",
            "Requirement already satisfied: six>=1.12.0 in /usr/local/lib/python3.7/dist-packages (from tensorflow) (1.15.0)\n",
            "Requirement already satisfied: tensorflow-io-gcs-filesystem>=0.23.1 in /usr/local/lib/python3.7/dist-packages (from tensorflow) (0.26.0)\n",
            "Requirement already satisfied: libclang>=9.0.1 in /usr/local/lib/python3.7/dist-packages (from tensorflow) (14.0.1)\n",
            "Requirement already satisfied: absl-py>=0.4.0 in /usr/local/lib/python3.7/dist-packages (from tensorflow) (1.0.0)\n",
            "Requirement already satisfied: termcolor>=1.1.0 in /usr/local/lib/python3.7/dist-packages (from tensorflow) (1.1.0)\n",
            "Collecting tf-estimator-nightly==2.8.0.dev2021122109\n",
            "  Downloading tf_estimator_nightly-2.8.0.dev2021122109-py2.py3-none-any.whl (462 kB)\n",
            "\u001b[K     |████████████████████████████████| 462 kB 82.6 MB/s \n",
            "\u001b[?25hRequirement already satisfied: opt-einsum>=2.3.2 in /usr/local/lib/python3.7/dist-packages (from tensorflow) (3.3.0)\n",
            "Requirement already satisfied: h5py>=2.9.0 in /usr/local/lib/python3.7/dist-packages (from tensorflow) (3.1.0)\n",
            "Requirement already satisfied: tensorboard<2.9,>=2.8 in /usr/local/lib/python3.7/dist-packages (from tensorflow) (2.8.0)\n",
            "Requirement already satisfied: grpcio<2.0,>=1.24.3 in /usr/local/lib/python3.7/dist-packages (from tensorflow) (1.46.1)\n",
            "Requirement already satisfied: google-pasta>=0.1.1 in /usr/local/lib/python3.7/dist-packages (from tensorflow) (0.2.0)\n",
            "Requirement already satisfied: wheel<1.0,>=0.23.0 in /usr/local/lib/python3.7/dist-packages (from astunparse>=1.6.0->tensorflow) (0.37.1)\n",
            "Requirement already satisfied: cached-property in /usr/local/lib/python3.7/dist-packages (from h5py>=2.9.0->tensorflow) (1.5.2)\n",
            "Requirement already satisfied: werkzeug>=0.11.15 in /usr/local/lib/python3.7/dist-packages (from tensorboard<2.9,>=2.8->tensorflow) (1.0.1)\n",
            "Requirement already satisfied: tensorboard-plugin-wit>=1.6.0 in /usr/local/lib/python3.7/dist-packages (from tensorboard<2.9,>=2.8->tensorflow) (1.8.1)\n",
            "Requirement already satisfied: tensorboard-data-server<0.7.0,>=0.6.0 in /usr/local/lib/python3.7/dist-packages (from tensorboard<2.9,>=2.8->tensorflow) (0.6.1)\n",
            "Requirement already satisfied: google-auth-oauthlib<0.5,>=0.4.1 in /usr/local/lib/python3.7/dist-packages (from tensorboard<2.9,>=2.8->tensorflow) (0.4.6)\n",
            "Requirement already satisfied: google-auth<3,>=1.6.3 in /usr/local/lib/python3.7/dist-packages (from tensorboard<2.9,>=2.8->tensorflow) (1.35.0)\n",
            "Requirement already satisfied: markdown>=2.6.8 in /usr/local/lib/python3.7/dist-packages (from tensorboard<2.9,>=2.8->tensorflow) (3.3.7)\n",
            "Requirement already satisfied: rsa<5,>=3.1.4 in /usr/local/lib/python3.7/dist-packages (from google-auth<3,>=1.6.3->tensorboard<2.9,>=2.8->tensorflow) (4.8)\n",
            "Requirement already satisfied: cachetools<5.0,>=2.0.0 in /usr/local/lib/python3.7/dist-packages (from google-auth<3,>=1.6.3->tensorboard<2.9,>=2.8->tensorflow) (4.2.4)\n",
            "Requirement already satisfied: pyasn1-modules>=0.2.1 in /usr/local/lib/python3.7/dist-packages (from google-auth<3,>=1.6.3->tensorboard<2.9,>=2.8->tensorflow) (0.2.8)\n",
            "Requirement already satisfied: requests-oauthlib>=0.7.0 in /usr/local/lib/python3.7/dist-packages (from google-auth-oauthlib<0.5,>=0.4.1->tensorboard<2.9,>=2.8->tensorflow) (1.3.1)\n",
            "Requirement already satisfied: importlib-metadata>=4.4 in /usr/local/lib/python3.7/dist-packages (from markdown>=2.6.8->tensorboard<2.9,>=2.8->tensorflow) (4.11.3)\n",
            "Requirement already satisfied: zipp>=0.5 in /usr/local/lib/python3.7/dist-packages (from importlib-metadata>=4.4->markdown>=2.6.8->tensorboard<2.9,>=2.8->tensorflow) (3.8.0)\n",
            "Requirement already satisfied: pyasn1<0.5.0,>=0.4.6 in /usr/local/lib/python3.7/dist-packages (from pyasn1-modules>=0.2.1->google-auth<3,>=1.6.3->tensorboard<2.9,>=2.8->tensorflow) (0.4.8)\n",
            "Requirement already satisfied: certifi>=2017.4.17 in /usr/local/lib/python3.7/dist-packages (from requests->exmol) (2022.5.18.1)\n",
            "Requirement already satisfied: urllib3!=1.25.0,!=1.25.1,<1.26,>=1.21.1 in /usr/local/lib/python3.7/dist-packages (from requests->exmol) (1.24.3)\n",
            "Requirement already satisfied: idna<3,>=2.5 in /usr/local/lib/python3.7/dist-packages (from requests->exmol) (2.10)\n",
            "Requirement already satisfied: chardet<4,>=3.0.2 in /usr/local/lib/python3.7/dist-packages (from requests->exmol) (3.0.4)\n",
            "Requirement already satisfied: oauthlib>=3.0.0 in /usr/local/lib/python3.7/dist-packages (from requests-oauthlib>=0.7.0->google-auth-oauthlib<0.5,>=0.4.1->tensorboard<2.9,>=2.8->tensorflow) (3.2.0)\n",
            "Requirement already satisfied: tensorflow-hub<0.13,>=0.7.0 in /usr/local/lib/python3.7/dist-packages (from tensorflowjs) (0.12.0)\n",
            "Collecting packaging~=20.9\n",
            "  Downloading packaging-20.9-py2.py3-none-any.whl (40 kB)\n",
            "\u001b[K     |████████████████████████████████| 40 kB 5.6 MB/s \n",
            "\u001b[?25hRequirement already satisfied: pyparsing>=2.0.2 in /usr/local/lib/python3.7/dist-packages (from packaging~=20.9->tensorflowjs) (3.0.9)\n",
            "Requirement already satisfied: cycler>=0.10 in /usr/local/lib/python3.7/dist-packages (from matplotlib->skunk>=0.4.0->exmol) (0.11.0)\n",
            "Requirement already satisfied: kiwisolver>=1.0.1 in /usr/local/lib/python3.7/dist-packages (from matplotlib->skunk>=0.4.0->exmol) (1.4.2)\n",
            "Requirement already satisfied: python-dateutil>=2.1 in /usr/local/lib/python3.7/dist-packages (from matplotlib->skunk>=0.4.0->exmol) (2.8.2)\n",
            "Requirement already satisfied: Pillow in /usr/local/lib/python3.7/dist-packages (from rdkit-pypi->exmol) (7.1.2)\n",
            "Requirement already satisfied: scipy>=1.1.0 in /usr/local/lib/python3.7/dist-packages (from scikit-learn->exmol) (1.4.1)\n",
            "Requirement already satisfied: joblib>=0.11 in /usr/local/lib/python3.7/dist-packages (from scikit-learn->exmol) (1.1.0)\n",
            "Requirement already satisfied: threadpoolctl>=2.0.0 in /usr/local/lib/python3.7/dist-packages (from scikit-learn->exmol) (3.1.0)\n",
            "Building wheels for collected packages: ratelimit\n",
            "  Building wheel for ratelimit (setup.py) ... \u001b[?25l\u001b[?25hdone\n",
            "  Created wheel for ratelimit: filename=ratelimit-2.2.1-py3-none-any.whl size=5908 sha256=fae842437a9f1df0b18d71060df8df1e480786e818029691c43b875bf2462b3a\n",
            "  Stored in directory: /root/.cache/pip/wheels/5d/c2/23/4915cca200175fece0d5015f1981f4e1ecb5e3ef40b66cf525\n",
            "Successfully built ratelimit\n",
            "Installing collected packages: tf-estimator-nightly, skunk, selfies, rdkit-pypi, ratelimit, packaging, tensorflowjs, kdeepensemble, exmol\n",
            "  Attempting uninstall: packaging\n",
            "    Found existing installation: packaging 21.3\n",
            "    Uninstalling packaging-21.3:\n",
            "      Successfully uninstalled packaging-21.3\n",
            "\u001b[31mERROR: pip's dependency resolver does not currently take into account all the packages that are installed. This behaviour is the source of the following dependency conflicts.\n",
            "datascience 0.10.6 requires folium==0.2.1, but you have folium 0.8.3 which is incompatible.\u001b[0m\n",
            "Successfully installed exmol-1.1.0 kdeepensemble-0.3.2 packaging-20.9 ratelimit-2.2.1 rdkit-pypi-2022.3.2.1 selfies-2.1.0 skunk-0.4.0 tensorflowjs-3.18.0 tf-estimator-nightly-2.8.0.dev2021122109\n"
          ]
        }
      ],
      "source": [
        "!pip install selfies exmol tensorflow tensorflowjs kdeepensemble tqdm"
      ]
    },
    {
      "cell_type": "code",
      "execution_count": null,
      "metadata": {
        "colab": {
          "base_uri": "https://localhost:8080/"
        },
        "id": "8BT0CwlMIybQ",
        "outputId": "4d3ae085-e475-483d-90aa-742e291355cc"
      },
      "outputs": [
        {
          "output_type": "stream",
          "name": "stdout",
          "text": [
            "0.3.2\n"
          ]
        }
      ],
      "source": [
        "import matplotlib.pyplot as plt\n",
        "import matplotlib as mpl\n",
        "import numpy as np\n",
        "import os\n",
        "import tensorflow as tf\n",
        "from tqdm.notebook import tqdm\n",
        "import urllib\n",
        "from dataclasses import dataclass\n",
        "import json\n",
        "import kdens\n",
        "from rdkit import Chem\n",
        "import random\n",
        "\n",
        "import pandas as pd\n",
        "import exmol\n",
        "import selfies as sf\n",
        "\n",
        "np.random.seed(0)\n",
        "tf.config.optimizer.set_jit(True)\n",
        "tf.random.set_seed(0)\n",
        "random.seed(0)\n",
        "\n",
        "import pandas as pd\n",
        "import matplotlib.font_manager as font_manager\n",
        "import urllib.request\n",
        "\n",
        "urllib.request.urlretrieve('https://github.com/google/fonts/raw/main/ofl/ibmplexmono/IBMPlexMono-Regular.ttf', 'IBMPlexMono-Regular.ttf')\n",
        "fe = font_manager.FontEntry(\n",
        "    fname='IBMPlexMono-Regular.ttf',\n",
        "    name='plexmono')\n",
        "font_manager.fontManager.ttflist.append(fe)\n",
        "plt.rcParams.update({'axes.facecolor':'#f5f4e9', \n",
        "            'grid.color' : '#AAAAAA', \n",
        "            'axes.edgecolor':'#333333', \n",
        "            'figure.facecolor':'#FFFFFF', \n",
        "            'axes.grid': False,\n",
        "            'axes.prop_cycle':   plt.cycler('color', plt.cm.Dark2.colors),\n",
        "            'font.family': fe.name,\n",
        "            'figure.figsize': (3.5,3.5 / 1.2),\n",
        "            'ytick.left': True,\n",
        "            'xtick.bottom': True   \n",
        "           })\n",
        "\n",
        "print(kdens.__version__)"
      ]
    },
    {
      "cell_type": "code",
      "execution_count": null,
      "metadata": {
        "colab": {
          "base_uri": "https://localhost:8080/",
          "height": 386
        },
        "id": "NEHtoHrcJLpI",
        "outputId": "0910197b-8840-4c26-eea6-3157f042483a"
      },
      "outputs": [
        {
          "output_type": "execute_result",
          "data": {
            "text/plain": [
              "       ID                                               Name  \\\n",
              "0  B-4206                                             diuron   \n",
              "1   F-988  7-(3-amino-3-methylazetidin-1-yl)-8-chloro-1-c...   \n",
              "2  C-1996          4-acetoxybiphenyl;  4-biphenylyl  acetate   \n",
              "3  A-3055                               methane dimolybdenum   \n",
              "4  A-2575  ethyl 4-[[(methylphenylamino)methylene]amino]b...   \n",
              "\n",
              "                                               InChI  \\\n",
              "0  InChI=1S/C9H10Cl2N2O/c1-13(2)9(14)12-6-3-4-7(1...   \n",
              "1  InChI=1S/C17H17ClFN3O3/c1-17(20)6-21(7-17)14-1...   \n",
              "2  InChI=1S/C14H12O2/c1-11(15)16-14-9-7-13(8-10-1...   \n",
              "3                            InChI=1S/CH4.2Mo/h1H4;;   \n",
              "4  InChI=1S/C17H18N2O2/c1-3-21-17(20)14-9-11-15(1...   \n",
              "\n",
              "                      InChIKey  \\\n",
              "0  XMTQQYYKAHVGBJ-UHFFFAOYSA-N   \n",
              "1  DUNZFXZSFJLIKR-UHFFFAOYSA-N   \n",
              "2  MISFQCBPASYYGV-UHFFFAOYSA-N   \n",
              "3  JAGQSESDQXCFCH-UHFFFAOYSA-N   \n",
              "4  GNGYPJUKIKDJQT-UHFFFAOYSA-N   \n",
              "\n",
              "                                              SMILES  Solubility        SD  \\\n",
              "0                        CN(C)C(=O)Nc1ccc(Cl)c(Cl)c1   -3.744300  1.227164   \n",
              "1  CC1(N)CN(C2=C(Cl)C3=C(C=C2F)C(=O)C(C(=O)O)=CN3...   -5.330000  0.000000   \n",
              "2                    CC(=O)OC1=CC=C(C=C1)C2=CC=CC=C2   -4.400000  0.000000   \n",
              "3                                        C.[Mo].[Mo]   -3.420275  0.409223   \n",
              "4                  CCOC(=O)c1ccc(cc1)N=CN(C)c2ccccc2   -5.450777  0.000000   \n",
              "\n",
              "   Ocurrences Group    MolWt  ...  NumRotatableBonds  NumValenceElectrons  \\\n",
              "0           5    G4  233.098  ...                1.0                 76.0   \n",
              "1           1    G1  365.792  ...                3.0                132.0   \n",
              "2           1    G1  212.248  ...                2.0                 80.0   \n",
              "3           2    G3  207.923  ...                0.0                 20.0   \n",
              "4           1    G1  282.343  ...                5.0                108.0   \n",
              "\n",
              "   NumAromaticRings  NumSaturatedRings  NumAliphaticRings  RingCount   TPSA  \\\n",
              "0               1.0                0.0                0.0        1.0  32.34   \n",
              "1               2.0                2.0                2.0        4.0  88.56   \n",
              "2               2.0                0.0                0.0        2.0  26.30   \n",
              "3               0.0                0.0                0.0        0.0   0.00   \n",
              "4               2.0                0.0                0.0        2.0  41.90   \n",
              "\n",
              "    LabuteASA  BalabanJ     BertzCT  \n",
              "0   92.603980  2.781208  352.665233  \n",
              "1  147.136366  2.001398  973.487509  \n",
              "2   94.493449  2.228677  471.848345  \n",
              "3   49.515427 -0.000000    2.754888  \n",
              "4  124.243431  2.028889  606.447052  \n",
              "\n",
              "[5 rows x 26 columns]"
            ],
            "text/html": [
              "\n",
              "  <div id=\"df-7d3fdd65-58c0-4cd3-b126-d3e5265ea7a0\">\n",
              "    <div class=\"colab-df-container\">\n",
              "      <div>\n",
              "<style scoped>\n",
              "    .dataframe tbody tr th:only-of-type {\n",
              "        vertical-align: middle;\n",
              "    }\n",
              "\n",
              "    .dataframe tbody tr th {\n",
              "        vertical-align: top;\n",
              "    }\n",
              "\n",
              "    .dataframe thead th {\n",
              "        text-align: right;\n",
              "    }\n",
              "</style>\n",
              "<table border=\"1\" class=\"dataframe\">\n",
              "  <thead>\n",
              "    <tr style=\"text-align: right;\">\n",
              "      <th></th>\n",
              "      <th>ID</th>\n",
              "      <th>Name</th>\n",
              "      <th>InChI</th>\n",
              "      <th>InChIKey</th>\n",
              "      <th>SMILES</th>\n",
              "      <th>Solubility</th>\n",
              "      <th>SD</th>\n",
              "      <th>Ocurrences</th>\n",
              "      <th>Group</th>\n",
              "      <th>MolWt</th>\n",
              "      <th>...</th>\n",
              "      <th>NumRotatableBonds</th>\n",
              "      <th>NumValenceElectrons</th>\n",
              "      <th>NumAromaticRings</th>\n",
              "      <th>NumSaturatedRings</th>\n",
              "      <th>NumAliphaticRings</th>\n",
              "      <th>RingCount</th>\n",
              "      <th>TPSA</th>\n",
              "      <th>LabuteASA</th>\n",
              "      <th>BalabanJ</th>\n",
              "      <th>BertzCT</th>\n",
              "    </tr>\n",
              "  </thead>\n",
              "  <tbody>\n",
              "    <tr>\n",
              "      <th>0</th>\n",
              "      <td>B-4206</td>\n",
              "      <td>diuron</td>\n",
              "      <td>InChI=1S/C9H10Cl2N2O/c1-13(2)9(14)12-6-3-4-7(1...</td>\n",
              "      <td>XMTQQYYKAHVGBJ-UHFFFAOYSA-N</td>\n",
              "      <td>CN(C)C(=O)Nc1ccc(Cl)c(Cl)c1</td>\n",
              "      <td>-3.744300</td>\n",
              "      <td>1.227164</td>\n",
              "      <td>5</td>\n",
              "      <td>G4</td>\n",
              "      <td>233.098</td>\n",
              "      <td>...</td>\n",
              "      <td>1.0</td>\n",
              "      <td>76.0</td>\n",
              "      <td>1.0</td>\n",
              "      <td>0.0</td>\n",
              "      <td>0.0</td>\n",
              "      <td>1.0</td>\n",
              "      <td>32.34</td>\n",
              "      <td>92.603980</td>\n",
              "      <td>2.781208</td>\n",
              "      <td>352.665233</td>\n",
              "    </tr>\n",
              "    <tr>\n",
              "      <th>1</th>\n",
              "      <td>F-988</td>\n",
              "      <td>7-(3-amino-3-methylazetidin-1-yl)-8-chloro-1-c...</td>\n",
              "      <td>InChI=1S/C17H17ClFN3O3/c1-17(20)6-21(7-17)14-1...</td>\n",
              "      <td>DUNZFXZSFJLIKR-UHFFFAOYSA-N</td>\n",
              "      <td>CC1(N)CN(C2=C(Cl)C3=C(C=C2F)C(=O)C(C(=O)O)=CN3...</td>\n",
              "      <td>-5.330000</td>\n",
              "      <td>0.000000</td>\n",
              "      <td>1</td>\n",
              "      <td>G1</td>\n",
              "      <td>365.792</td>\n",
              "      <td>...</td>\n",
              "      <td>3.0</td>\n",
              "      <td>132.0</td>\n",
              "      <td>2.0</td>\n",
              "      <td>2.0</td>\n",
              "      <td>2.0</td>\n",
              "      <td>4.0</td>\n",
              "      <td>88.56</td>\n",
              "      <td>147.136366</td>\n",
              "      <td>2.001398</td>\n",
              "      <td>973.487509</td>\n",
              "    </tr>\n",
              "    <tr>\n",
              "      <th>2</th>\n",
              "      <td>C-1996</td>\n",
              "      <td>4-acetoxybiphenyl;  4-biphenylyl  acetate</td>\n",
              "      <td>InChI=1S/C14H12O2/c1-11(15)16-14-9-7-13(8-10-1...</td>\n",
              "      <td>MISFQCBPASYYGV-UHFFFAOYSA-N</td>\n",
              "      <td>CC(=O)OC1=CC=C(C=C1)C2=CC=CC=C2</td>\n",
              "      <td>-4.400000</td>\n",
              "      <td>0.000000</td>\n",
              "      <td>1</td>\n",
              "      <td>G1</td>\n",
              "      <td>212.248</td>\n",
              "      <td>...</td>\n",
              "      <td>2.0</td>\n",
              "      <td>80.0</td>\n",
              "      <td>2.0</td>\n",
              "      <td>0.0</td>\n",
              "      <td>0.0</td>\n",
              "      <td>2.0</td>\n",
              "      <td>26.30</td>\n",
              "      <td>94.493449</td>\n",
              "      <td>2.228677</td>\n",
              "      <td>471.848345</td>\n",
              "    </tr>\n",
              "    <tr>\n",
              "      <th>3</th>\n",
              "      <td>A-3055</td>\n",
              "      <td>methane dimolybdenum</td>\n",
              "      <td>InChI=1S/CH4.2Mo/h1H4;;</td>\n",
              "      <td>JAGQSESDQXCFCH-UHFFFAOYSA-N</td>\n",
              "      <td>C.[Mo].[Mo]</td>\n",
              "      <td>-3.420275</td>\n",
              "      <td>0.409223</td>\n",
              "      <td>2</td>\n",
              "      <td>G3</td>\n",
              "      <td>207.923</td>\n",
              "      <td>...</td>\n",
              "      <td>0.0</td>\n",
              "      <td>20.0</td>\n",
              "      <td>0.0</td>\n",
              "      <td>0.0</td>\n",
              "      <td>0.0</td>\n",
              "      <td>0.0</td>\n",
              "      <td>0.00</td>\n",
              "      <td>49.515427</td>\n",
              "      <td>-0.000000</td>\n",
              "      <td>2.754888</td>\n",
              "    </tr>\n",
              "    <tr>\n",
              "      <th>4</th>\n",
              "      <td>A-2575</td>\n",
              "      <td>ethyl 4-[[(methylphenylamino)methylene]amino]b...</td>\n",
              "      <td>InChI=1S/C17H18N2O2/c1-3-21-17(20)14-9-11-15(1...</td>\n",
              "      <td>GNGYPJUKIKDJQT-UHFFFAOYSA-N</td>\n",
              "      <td>CCOC(=O)c1ccc(cc1)N=CN(C)c2ccccc2</td>\n",
              "      <td>-5.450777</td>\n",
              "      <td>0.000000</td>\n",
              "      <td>1</td>\n",
              "      <td>G1</td>\n",
              "      <td>282.343</td>\n",
              "      <td>...</td>\n",
              "      <td>5.0</td>\n",
              "      <td>108.0</td>\n",
              "      <td>2.0</td>\n",
              "      <td>0.0</td>\n",
              "      <td>0.0</td>\n",
              "      <td>2.0</td>\n",
              "      <td>41.90</td>\n",
              "      <td>124.243431</td>\n",
              "      <td>2.028889</td>\n",
              "      <td>606.447052</td>\n",
              "    </tr>\n",
              "  </tbody>\n",
              "</table>\n",
              "<p>5 rows × 26 columns</p>\n",
              "</div>\n",
              "      <button class=\"colab-df-convert\" onclick=\"convertToInteractive('df-7d3fdd65-58c0-4cd3-b126-d3e5265ea7a0')\"\n",
              "              title=\"Convert this dataframe to an interactive table.\"\n",
              "              style=\"display:none;\">\n",
              "        \n",
              "  <svg xmlns=\"http://www.w3.org/2000/svg\" height=\"24px\"viewBox=\"0 0 24 24\"\n",
              "       width=\"24px\">\n",
              "    <path d=\"M0 0h24v24H0V0z\" fill=\"none\"/>\n",
              "    <path d=\"M18.56 5.44l.94 2.06.94-2.06 2.06-.94-2.06-.94-.94-2.06-.94 2.06-2.06.94zm-11 1L8.5 8.5l.94-2.06 2.06-.94-2.06-.94L8.5 2.5l-.94 2.06-2.06.94zm10 10l.94 2.06.94-2.06 2.06-.94-2.06-.94-.94-2.06-.94 2.06-2.06.94z\"/><path d=\"M17.41 7.96l-1.37-1.37c-.4-.4-.92-.59-1.43-.59-.52 0-1.04.2-1.43.59L10.3 9.45l-7.72 7.72c-.78.78-.78 2.05 0 2.83L4 21.41c.39.39.9.59 1.41.59.51 0 1.02-.2 1.41-.59l7.78-7.78 2.81-2.81c.8-.78.8-2.07 0-2.86zM5.41 20L4 18.59l7.72-7.72 1.47 1.35L5.41 20z\"/>\n",
              "  </svg>\n",
              "      </button>\n",
              "      \n",
              "  <style>\n",
              "    .colab-df-container {\n",
              "      display:flex;\n",
              "      flex-wrap:wrap;\n",
              "      gap: 12px;\n",
              "    }\n",
              "\n",
              "    .colab-df-convert {\n",
              "      background-color: #E8F0FE;\n",
              "      border: none;\n",
              "      border-radius: 50%;\n",
              "      cursor: pointer;\n",
              "      display: none;\n",
              "      fill: #1967D2;\n",
              "      height: 32px;\n",
              "      padding: 0 0 0 0;\n",
              "      width: 32px;\n",
              "    }\n",
              "\n",
              "    .colab-df-convert:hover {\n",
              "      background-color: #E2EBFA;\n",
              "      box-shadow: 0px 1px 2px rgba(60, 64, 67, 0.3), 0px 1px 3px 1px rgba(60, 64, 67, 0.15);\n",
              "      fill: #174EA6;\n",
              "    }\n",
              "\n",
              "    [theme=dark] .colab-df-convert {\n",
              "      background-color: #3B4455;\n",
              "      fill: #D2E3FC;\n",
              "    }\n",
              "\n",
              "    [theme=dark] .colab-df-convert:hover {\n",
              "      background-color: #434B5C;\n",
              "      box-shadow: 0px 1px 3px 1px rgba(0, 0, 0, 0.15);\n",
              "      filter: drop-shadow(0px 1px 2px rgba(0, 0, 0, 0.3));\n",
              "      fill: #FFFFFF;\n",
              "    }\n",
              "  </style>\n",
              "\n",
              "      <script>\n",
              "        const buttonEl =\n",
              "          document.querySelector('#df-7d3fdd65-58c0-4cd3-b126-d3e5265ea7a0 button.colab-df-convert');\n",
              "        buttonEl.style.display =\n",
              "          google.colab.kernel.accessAllowed ? 'block' : 'none';\n",
              "\n",
              "        async function convertToInteractive(key) {\n",
              "          const element = document.querySelector('#df-7d3fdd65-58c0-4cd3-b126-d3e5265ea7a0');\n",
              "          const dataTable =\n",
              "            await google.colab.kernel.invokeFunction('convertToInteractive',\n",
              "                                                     [key], {});\n",
              "          if (!dataTable) return;\n",
              "\n",
              "          const docLinkHtml = 'Like what you see? Visit the ' +\n",
              "            '<a target=\"_blank\" href=https://colab.research.google.com/notebooks/data_table.ipynb>data table notebook</a>'\n",
              "            + ' to learn more about interactive tables.';\n",
              "          element.innerHTML = '';\n",
              "          dataTable['output_type'] = 'display_data';\n",
              "          await google.colab.output.renderOutput(dataTable, element);\n",
              "          const docLink = document.createElement('div');\n",
              "          docLink.innerHTML = docLinkHtml;\n",
              "          element.appendChild(docLink);\n",
              "        }\n",
              "      </script>\n",
              "    </div>\n",
              "  </div>\n",
              "  "
            ]
          },
          "metadata": {},
          "execution_count": 3
        }
      ],
      "source": [
        "soldata = pd.read_csv(\n",
        "    \"https://github.com/whitead/dmol-book/raw/master/data/curated-solubility-dataset.csv\"\n",
        ")\n",
        "# shuffle here to remove ordering\n",
        "soldata = soldata.sample(frac=1).reset_index(drop=True)\n",
        "soldata.head()\n"
      ]
    },
    {
      "cell_type": "code",
      "execution_count": null,
      "metadata": {
        "colab": {
          "base_uri": "https://localhost:8080/"
        },
        "id": "Vtej0R-aQgcx",
        "outputId": "8653a75b-bc88-414f-a24f-87e8fe04829a"
      },
      "outputs": [
        {
          "output_type": "stream",
          "name": "stdout",
          "text": [
            "Before Augmentation 9982 After augmentation 97154\n"
          ]
        }
      ],
      "source": [
        "def randomize_smiles(mol, random_type=None, isomericSmiles=True):\n",
        "    \"\"\"\n",
        "    From: https://github.com/rxn4chemistry/rxn_yields\n",
        "    From: https://github.com/undeadpixel/reinvent-randomized and https://github.com/GLambard/SMILES-X\n",
        "    Returns a random SMILES given a SMILES of a molecule.\n",
        "    :param mol: A Mol object\n",
        "    :param random_type: The type (unrestricted, restricted, rotated) of randomization performed.\n",
        "    :return : A random SMILES string of the same molecule or None if the molecule is invalid.\n",
        "    \"\"\"\n",
        "    if random_type is None:\n",
        "      random_type = np.random.choice(['unrestricted', 'restricted', 'rotated'])\n",
        "\n",
        "    if random_type == \"unrestricted\":\n",
        "        return Chem.MolToSmiles(mol, canonical=False, doRandom=True, isomericSmiles=isomericSmiles)\n",
        "    elif random_type == \"restricted\":\n",
        "        new_atom_order = list(range(mol.GetNumAtoms()))\n",
        "        random.shuffle(new_atom_order)\n",
        "        random_mol = Chem.RenumberAtoms(mol, newOrder=new_atom_order)\n",
        "        return Chem.MolToSmiles(random_mol, canonical=False, isomericSmiles=isomericSmiles)\n",
        "    elif random_type == 'rotated':\n",
        "        n_atoms = mol.GetNumAtoms()\n",
        "        rotation_index = random.randint(0, n_atoms-1)\n",
        "        atoms = list(range(n_atoms))\n",
        "        new_atoms_order = (atoms[rotation_index%len(atoms):]+atoms[:rotation_index%len(atoms)])\n",
        "        rotated_mol = Chem.RenumberAtoms(mol,new_atoms_order)\n",
        "        return Chem.MolToSmiles(rotated_mol, canonical=False, isomericSmiles=isomericSmiles)\n",
        "    raise ValueError(\"Type '{}' is not valid\".format(random_type))\n",
        "\n",
        "aug_smiles = []\n",
        "aug_labels = []\n",
        "\n",
        "for s,l in zip(soldata.SMILES, soldata.Solubility):\n",
        "  mol = Chem.MolToSmiles(Chem.MolFromSmiles(s, sanitize=True))\n",
        "  if not mol:\n",
        "    continue\n",
        "  aug_smiles.append(s)\n",
        "  aug_labels.append(l)\n",
        "  for _ in range(10):\n",
        "    try:\n",
        "      # I think the randomization may create side-effects?\n",
        "      si = randomize_smiles(Chem.MolFromSmiles(s))\n",
        "    except RuntimeError:\n",
        "      break\n",
        "    if si is not None and si != s:\n",
        "      aug_smiles.append(si)\n",
        "      aug_labels.append(l)\n",
        "# add water a bunch (add end, so should show up in train)\n",
        "for _ in range(100):\n",
        "  aug_smiles.append('O')\n",
        "  aug_labels.append(np.log(55.41))\n",
        "print('Before Augmentation', len(soldata.SMILES), 'After augmentation', len(aug_smiles))"
      ]
    },
    {
      "cell_type": "code",
      "execution_count": null,
      "metadata": {
        "id": "SbibvQ7aJWet"
      },
      "outputs": [],
      "source": [
        "selfies_list = []\n",
        "for s in aug_smiles:\n",
        "  try:\n",
        "    se = sf.encoder(s)\n",
        "    selfies_list.append(se)\n",
        "  except:\n",
        "    selfies_list.append(None)"
      ]
    },
    {
      "cell_type": "code",
      "execution_count": null,
      "metadata": {
        "colab": {
          "base_uri": "https://localhost:8080/"
        },
        "id": "__MW3iDoJ5sL",
        "outputId": "bc12e5ca-90bf-4b07-db05-0641ff0e3207"
      },
      "outputs": [
        {
          "output_type": "stream",
          "name": "stdout",
          "text": [
            "selfies: [C][N][Branch1][C][C][C][=Branch1][C][=O][N][C][=C][C][=C][Branch1][C][Cl][C][Branch1][C][Cl][=C][Ring1][Branch2]\n",
            "selfies2ints: [161, 53, 242, 161, 161, 161, 45, 161, 57, 53, 161, 62, 161, 62, 242, 161, 174, 161, 242, 161, 174, 62, 198, 65]\n",
            "ints2selfes: [C][N][Branch1][C][C][C][=Branch1][C][=O][N][C][=C][C][=C][Branch1][C][Cl][C][Branch1][C][Cl][=C][Ring1][Branch2]\n",
            "Vocab Size: 262\n"
          ]
        }
      ],
      "source": [
        "basic = set(exmol.get_basic_alphabet())\n",
        "data_vocab = set(sf.get_alphabet_from_selfies([s for s in selfies_list if s is not None]))\n",
        "vocab = ['[Nop]', '.']\n",
        "vocab.extend(list(data_vocab.union(basic)))\n",
        "vocab_stoi = {o:i for o,i in zip(vocab, range(len(vocab)))}\n",
        "\n",
        "def selfies2ints(s):\n",
        "    result = []\n",
        "    for token in sf.split_selfies(s):\n",
        "        if token in vocab_stoi:\n",
        "            result.append(vocab_stoi[token])\n",
        "        else:\n",
        "            result.append(np.nan)\n",
        "            #print('Warning')\n",
        "    return result\n",
        "\n",
        "def ints2selfies(v):\n",
        "    return ''.join([vocab[i] for i in v])\n",
        "\n",
        "# test them out\n",
        "s = selfies_list[0]\n",
        "print('selfies:', s)\n",
        "v = selfies2ints(s)\n",
        "print('selfies2ints:', v)\n",
        "so = ints2selfies(v)\n",
        "print('ints2selfes:', so)\n",
        "assert so == s\n",
        "print('Vocab Size:', len(data_vocab))"
      ]
    },
    {
      "cell_type": "code",
      "execution_count": null,
      "metadata": {
        "id": "S6vvm4PTJ_oI"
      },
      "outputs": [],
      "source": [
        "@dataclass\n",
        "class Config:\n",
        "    vocab_size: int\n",
        "    example_number: int\n",
        "    batch_size: int\n",
        "    buffer_size: int\n",
        "    embedding_dim: int\n",
        "    rnn_units: int\n",
        "    hidden_dim: int\n",
        "    drop_rate: int \n",
        "    nmodels: int\n",
        "    adv_epsilon: float\n",
        "    epochs: int\n",
        "\n",
        "\n",
        "config = Config(\n",
        "    vocab_size=len(vocab),\n",
        "    example_number=len(selfies_list),\n",
        "    batch_size=16,\n",
        "    buffer_size=10000,\n",
        "    embedding_dim=64,\n",
        "    hidden_dim=32,\n",
        "    rnn_units=64,\n",
        "    drop_rate=0.2,\n",
        "    nmodels = 4,\n",
        "    adv_epsilon=1e-2,\n",
        "    epochs=15\n",
        ")"
      ]
    },
    {
      "cell_type": "markdown",
      "metadata": {
        "id": "M6mdIAyoUlFo"
      },
      "source": [
        "# New Section"
      ]
    },
    {
      "cell_type": "code",
      "execution_count": null,
      "metadata": {
        "colab": {
          "base_uri": "https://localhost:8080/"
        },
        "id": "p7hx4pTFKSmK",
        "outputId": "cdadafc3-5671-473f-f1c2-f9efe0b36303"
      },
      "outputs": [
        {
          "output_type": "stream",
          "name": "stdout",
          "text": [
            "97083 Total examples\n"
          ]
        }
      ],
      "source": [
        "# now get sequences\n",
        "encoded = [selfies2ints(s) for s in selfies_list if s is not None]\n",
        "padded_seqs = tf.keras.preprocessing.sequence.pad_sequences(encoded, padding=\"post\")\n",
        "aug_labels = np.array(aug_labels)\n",
        "sol_values = aug_labels[[bool(s) for s in selfies_list]].astype(np.float32)\n",
        "\n",
        "# there may be some contaimation from augmentation in one record, but is negligible\n",
        "N = len(sol_values)\n",
        "print(N, 'Total examples')\n",
        "\n",
        "split = int(0.2 * N)\n",
        "test_data = tf.data.Dataset.from_tensor_slices(\n",
        "    (padded_seqs[:split], sol_values[:split]))\n",
        "\n",
        "val_data = tf.data.Dataset.from_tensor_slices(\n",
        "    (padded_seqs[split:2*split], sol_values[split:2*split]))\n",
        "\n",
        "sol_values = sol_values[2*split:]\n",
        "padded_seqs = padded_seqs[2 * split:]\n",
        "\n",
        "#idx = kdens.resample(sol_values, (sol_values.shape[0], config.nmodels), nclasses=100)\n",
        "# decided against adjusting since think we match real distribution of molecules already \n",
        "idx = np.random.choice(np.arange(sol_values.shape[0]), size=(sol_values.shape[0], config.nmodels))\n",
        "\n",
        "train_data = tf.data.Dataset.from_tensor_slices(\n",
        "    (padded_seqs[idx], sol_values[idx].astype(np.float32)))\n",
        "\n",
        "test_data = test_data.batch(config.batch_size)\n",
        "val_data = val_data.batch(config.batch_size).cache().prefetch(\n",
        "        tf.data.AUTOTUNE\n",
        "    )\n",
        "train_data = train_data.shuffle(config.buffer_size).batch(config.batch_size).prefetch(\n",
        "        tf.data.AUTOTUNE\n",
        "    )\n",
        "\n",
        "\n",
        "# force them to cache\n",
        "#list(val_data.as_numpy_iterator())\n",
        "#list(train_data.as_numpy_iterator())\n",
        "#print('cached')"
      ]
    },
    {
      "cell_type": "code",
      "execution_count": null,
      "metadata": {
        "colab": {
          "base_uri": "https://localhost:8080/",
          "height": 393
        },
        "id": "0Xwcl1rXJ5T-",
        "outputId": "0d494028-7096-4123-ec7d-d01867e6e016"
      },
      "outputs": [
        {
          "output_type": "display_data",
          "data": {
            "text/plain": [
              "<Figure size 252x210 with 1 Axes>"
            ],
            "image/png": "[encoded data removed]"
          },
          "metadata": {}
        },
        {
          "output_type": "display_data",
          "data": {
            "text/plain": [
              "<Figure size 252x210 with 1 Axes>"
            ],
            "image/png": "[encoded data removed]"
          },
          "metadata": {}
        }
      ],
      "source": [
        "plt.hist(sol_values[idx[:,0]])\n",
        "plt.show()\n",
        "plt.hist(sol_values[:split])\n",
        "plt.show()"
      ]
    },
    {
      "cell_type": "markdown",
      "metadata": {
        "id": "dMQxnlpAr4U8"
      },
      "source": [
        "### Model"
      ]
    },
    {
      "cell_type": "code",
      "execution_count": null,
      "metadata": {
        "id": "lstN8RB8EI7Q"
      },
      "outputs": [],
      "source": [
        "def build_model():\n",
        "    inputs = tf.keras.Input(shape=(None,))\n",
        "\n",
        "    # make embedding and indicate that 0 should be treated as padding mask\n",
        "    e = tf.keras.layers.Embedding(input_dim=config.vocab_size, \n",
        "                                        output_dim=config.embedding_dim,\n",
        "                                        mask_zero=True)(inputs)\n",
        "    e = tf.keras.layers.Dropout(config.drop_rate)(e)\n",
        "    # RNN layer\n",
        "    x = tf.keras.layers.Bidirectional(tf.keras.layers.GRU(config.rnn_units, return_sequences=True,  kernel_regularizer='l2'))(e)\n",
        "    x = tf.keras.layers.Bidirectional(tf.keras.layers.GRU(config.rnn_units, kernel_regularizer='l2'))(x)\n",
        "    #x = tf.keras.layers.Bidirectional(tf.keras.layers.LSTM(config.rnn_units, kernel_regularizer='l2'))(e)\n",
        "    x = tf.keras.layers.LayerNormalization()(x)\n",
        "    # a dense hidden layer\n",
        "    x = tf.keras.layers.Dense(config.hidden_dim, activation=\"swish\",  kernel_regularizer='l2')(x)\n",
        "    x = tf.keras.layers.Dropout(config.drop_rate)(x)\n",
        "    x = tf.keras.layers.Dense(config.hidden_dim // 2, activation=\"swish\",  kernel_regularizer='l2')(x)\n",
        "    x = tf.keras.layers.Dropout(config.drop_rate)(x)\n",
        "    # predicting prob, so no activation\n",
        "    muhat = tf.keras.layers.Dense(1)(x)\n",
        "    stdhat = tf.keras.layers.Dense(1, \n",
        "                                   activation='softplus', \n",
        "                                   bias_constraint=tf.keras.constraints.MinMaxNorm( \n",
        "                                       min_value=1e-6, max_value=1000.0, rate=1.0, axis=0))(x)\n",
        "    out = tf.reshape(tf.stack([muhat, stdhat], axis=-1), (-1, 2))\n",
        "    model = tf.keras.Model(inputs=inputs, outputs=out, name='sol-rnn')\n",
        "    partial_in = tf.keras.Model(inputs=inputs, outputs=e)\n",
        "    partial_out = tf.keras.Model(inputs=e, outputs=out)\n",
        "    return model, partial_in, partial_out\n",
        "def build_inf_model():\n",
        "    inputs = tf.keras.Input(shape=(None,))\n",
        "\n",
        "    # make embedding and indicate that 0 should be treated as padding mask\n",
        "    e = tf.keras.layers.Embedding(input_dim=config.vocab_size, \n",
        "                                        output_dim=config.embedding_dim,\n",
        "                                        mask_zero=True)(inputs)\n",
        "\n",
        "    # RNN layer\n",
        "    x = tf.keras.layers.Bidirectional(tf.keras.layers.GRU(config.rnn_units, return_sequences=True))(e)\n",
        "    x = tf.keras.layers.Bidirectional(tf.keras.layers.GRU(config.rnn_units))(x)\n",
        "    #x = tf.keras.layers.Bidirectional(tf.keras.layers.LSTM(config.rnn_units))(e)\n",
        "    x = tf.keras.layers.LayerNormalization()(x)\n",
        "    # a dense hidden layer\n",
        "    x = tf.keras.layers.Dense(config.hidden_dim, activation=\"swish\")(x)\n",
        "    x = tf.keras.layers.Dense(config.hidden_dim // 2, activation=\"swish\")(x)\n",
        "    # predicting prob, so no activation\n",
        "    muhat = tf.keras.layers.Dense(1)(x)\n",
        "    stdhat = tf.keras.layers.Dense(1, activation='softplus')(x)\n",
        "    model = tf.keras.Model(inputs=inputs, outputs=(muhat, stdhat), name='sol-rnn-infer')\n",
        "    return model"
      ]
    },
    {
      "cell_type": "code",
      "execution_count": null,
      "metadata": {
        "id": "ib_deQ_-Vdg1"
      },
      "outputs": [],
      "source": [
        "model = kdens.DeepEnsemble(build_model, config.nmodels, config.adv_epsilon, partial=True)\n",
        "model.compile(tf.optimizers.Adam(1e-4), loss=kdens.neg_ll, metrics=['mae'])"
      ]
    },
    {
      "cell_type": "code",
      "execution_count": null,
      "metadata": {
        "colab": {
          "base_uri": "https://localhost:8080/"
        },
        "id": "3kmu1p5mKZat",
        "outputId": "553e051f-9dad-4897-fd17-189111d23233"
      },
      "outputs": [
        {
          "output_type": "stream",
          "name": "stdout",
          "text": [
            "Epoch 1/15\n",
            "3641/3641 [==============================] - 2582s 694ms/step - loss: 4.0837 - adv_loss: 4.1165 - mae: 2.0372 - val_loss: 1.4279 - val_mae: 1.7708 - val_adv_loss: 0.0000e+00\n",
            "Epoch 2/15\n",
            "3641/3641 [==============================] - 2515s 691ms/step - loss: 1.4569 - adv_loss: 1.4563 - mae: 1.9121 - val_loss: 1.3747 - val_mae: 1.8185 - val_adv_loss: 0.0000e+00\n",
            "Epoch 3/15\n",
            "3641/3641 [==============================] - 2505s 688ms/step - loss: 1.4129 - adv_loss: 1.4126 - mae: 1.8949 - val_loss: 1.3616 - val_mae: 1.8210 - val_adv_loss: 0.0000e+00\n",
            "Epoch 4/15\n",
            "3641/3641 [==============================] - 2511s 690ms/step - loss: 1.3949 - adv_loss: 1.3943 - mae: 1.8871 - val_loss: 1.3545 - val_mae: 1.8334 - val_adv_loss: 0.0000e+00\n",
            "Epoch 5/15\n",
            "3641/3641 [==============================] - 2509s 689ms/step - loss: 1.3856 - adv_loss: 1.3851 - mae: 1.8849 - val_loss: 1.3502 - val_mae: 1.8294 - val_adv_loss: 0.0000e+00\n",
            "Epoch 6/15\n",
            "3641/3641 [==============================] - 2507s 689ms/step - loss: 1.3786 - adv_loss: 1.3782 - mae: 1.8806 - val_loss: 1.3468 - val_mae: 1.8381 - val_adv_loss: 0.0000e+00\n",
            "Epoch 7/15\n",
            "3641/3641 [==============================] - 2507s 689ms/step - loss: 1.3730 - adv_loss: 1.3739 - mae: 1.8802 - val_loss: 1.3448 - val_mae: 1.8381 - val_adv_loss: 0.0000e+00\n",
            "Epoch 8/15\n",
            "3641/3641 [==============================] - 2504s 688ms/step - loss: 1.3710 - adv_loss: 1.3707 - mae: 1.8788 - val_loss: 1.3429 - val_mae: 1.8395 - val_adv_loss: 0.0000e+00\n",
            "Epoch 9/15\n",
            "3641/3641 [==============================] - 2506s 688ms/step - loss: 1.3675 - adv_loss: 1.3686 - mae: 1.8781 - val_loss: 1.3420 - val_mae: 1.8406 - val_adv_loss: 0.0000e+00\n",
            "Epoch 10/15\n",
            "3641/3641 [==============================] - 2507s 689ms/step - loss: 1.3669 - adv_loss: 1.3664 - mae: 1.8776 - val_loss: 1.3416 - val_mae: 1.8421 - val_adv_loss: 0.0000e+00\n",
            "Epoch 11/15\n",
            "3641/3641 [==============================] - 2508s 689ms/step - loss: 1.3658 - adv_loss: 1.3658 - mae: 1.8776 - val_loss: 1.3417 - val_mae: 1.8403 - val_adv_loss: 0.0000e+00\n",
            "Epoch 12/15\n",
            "3641/3641 [==============================] - 2505s 688ms/step - loss: 1.3653 - adv_loss: 1.3655 - mae: 1.8765 - val_loss: 1.3417 - val_mae: 1.8437 - val_adv_loss: 0.0000e+00\n",
            "Epoch 13/15\n",
            "3641/3641 [==============================] - 2508s 689ms/step - loss: 1.3653 - adv_loss: 1.3652 - mae: 1.8767 - val_loss: 1.3415 - val_mae: 1.8399 - val_adv_loss: 0.0000e+00\n",
            "Epoch 14/15\n",
            "3641/3641 [==============================] - 2506s 688ms/step - loss: 1.3645 - adv_loss: 1.3644 - mae: 1.8750 - val_loss: 1.3416 - val_mae: 1.8418 - val_adv_loss: 0.0000e+00\n",
            "Epoch 15/15\n",
            "3641/3641 [==============================] - 2509s 689ms/step - loss: 1.3647 - adv_loss: 1.3641 - mae: 1.8757 - val_loss: 1.3415 - val_mae: 1.8408 - val_adv_loss: 0.0000e+00\n"
          ]
        }
      ],
      "source": [
        "callbacks = [tf.keras.callbacks.EarlyStopping(patience=3, restore_best_weights=True)]\n",
        "result = model.fit(train_data, validation_data=val_data, epochs=config.epochs)#, callbacks=callbacks)"
      ]
    },
    {
      "cell_type": "code",
      "execution_count": null,
      "metadata": {
        "id": "XGQRvYseeb3B",
        "colab": {
          "base_uri": "https://localhost:8080/"
        },
        "outputId": "78709384-931d-4679-836c-5d1aa48e32e3"
      },
      "outputs": [
        {
          "output_type": "execute_result",
          "data": {
            "text/plain": [
              "<tf.Tensor: shape=(1, 3), dtype=float32, numpy=array([[-3.0033672e+00,  5.6476831e+00,  1.1016693e-03]], dtype=float32)>"
            ]
          },
          "metadata": {},
          "execution_count": 13
        }
      ],
      "source": [
        "# test water\n",
        "x = np.reshape(selfies2ints('[O]' + ''.join(['[Nop]'] * 100)), (1, -1))\n",
        "model(x)"
      ]
    },
    {
      "cell_type": "code",
      "execution_count": null,
      "metadata": {
        "id": "baoAtT6cKaWf",
        "colab": {
          "base_uri": "https://localhost:8080/",
          "height": 232
        },
        "outputId": "80623d1d-ca3c-4b95-dc01-4f03fe58b96f"
      },
      "outputs": [
        {
          "output_type": "display_data",
          "data": {
            "text/plain": [
              "<Figure size 252x210 with 1 Axes>"
            ],
            "image/png": "[encoded data removed]"
          },
          "metadata": {}
        }
      ],
      "source": [
        "plt.plot(result.history[\"loss\"], label=\"training\")\n",
        "plt.plot(result.history[\"val_loss\"], label=\"validation\")\n",
        "plt.legend()\n",
        "plt.xlabel(\"Epoch\")\n",
        "plt.ylabel(\"Loss\")\n",
        "plt.title(\"Loss Curve\")\n",
        "plt.show()"
      ]
    },
    {
      "cell_type": "code",
      "execution_count": null,
      "metadata": {
        "id": "SmcrBIUEKdBR",
        "colab": {
          "base_uri": "https://localhost:8080/",
          "height": 49,
          "referenced_widgets": [
            "ef6992b0ef6b4ec0adb89eb168ca6519",
            "4ad878d634f7486295c821a49c1b5dc2",
            "a9822f73aac6460da627d1d015d2e3f2",
            "b2aa7b77797648bb8a0ad15f3b3c0243",
            "4a6065a524984067938393053bb6303e",
            "cf290422ec1a4261a12178f388ad9028",
            "a18fe43c9de64e86b7ab7132372905eb",
            "9a820ad5aeba4e0dbff6eafed9a76084",
            "5f85c9411333464c84ab9d65e834fa59",
            "17d9383b3caa483a804d3bf710131cc7",
            "0d381136293f45939498453d0c34077b"
          ]
        },
        "outputId": "c58f1938-8963-4009-ff0a-64cf7bd2e3c2"
      },
      "outputs": [
        {
          "output_type": "display_data",
          "data": {
            "text/plain": [
              "  0%|          | 0/1214 [00:00<?, ?it/s]"
            ],
            "application/vnd.jupyter.widget-view+json": {
              "version_major": 2,
              "version_minor": 0,
              "model_id": "ef6992b0ef6b4ec0adb89eb168ca6519"
            }
          },
          "metadata": {}
        }
      ],
      "source": [
        "yhat = []\n",
        "test_y = []\n",
        "yvar = []\n",
        "yepi = []\n",
        "for x, y in tqdm(test_data):\n",
        "    out = model.predict(x)\n",
        "    yhat.extend(out[...,0].flatten())\n",
        "    yvar.extend(out[...,1].flatten())\n",
        "    yepi.extend(out[...,2].flatten())\n",
        "    test_y.extend(y.numpy().flatten())\n",
        "yhat = np.array(yhat)\n",
        "test_y = np.array(test_y)"
      ]
    },
    {
      "cell_type": "code",
      "execution_count": null,
      "metadata": {
        "id": "x0AU429AzAY0"
      },
      "outputs": [],
      "source": [
        "ll = np.mean(kdens.neg_ll(test_y, yhat))\n",
        "metric_r = np.corrcoef(test_y, yhat)[0,1]\n",
        "metric_mae = np.mean(np.abs(test_y - yhat))"
      ]
    },
    {
      "cell_type": "code",
      "execution_count": null,
      "metadata": {
        "id": "-9t_xXwQ6HIj",
        "colab": {
          "base_uri": "https://localhost:8080/",
          "height": 291
        },
        "outputId": "4f4ab691-05d2-4e34-b872-a2d5ac757c9d"
      },
      "outputs": [
        {
          "output_type": "display_data",
          "data": {
            "text/plain": [
              "<Figure size 360x288 with 1 Axes>"
            ],
            "image/png": "[encoded data removed]"
          },
          "metadata": {}
        }
      ],
      "source": [
        "#plot test data\n",
        "plt.figure(figsize=(5,4))\n",
        "alpha = 0.5\n",
        "plt.plot(test_y, test_y, '-', color='#666', linewidth=1, zorder=0, alpha=alpha)\n",
        "plt.errorbar(test_y, yhat, yerr=np.sqrt(yvar), fmt='.', color='gray', alpha=0.05 * alpha)\n",
        "plt.errorbar(test_y, yhat, yerr=np.sqrt(yepi), fmt='.', color='C0', alpha=0.2 * alpha)\n",
        "plt.text(min(test_y) + 0.1, max(y) - 2, f\"correlation = {metric_r:.3f}\")\n",
        "plt.text(min(test_y) + 0.1, max(y) - 3, f\"loss = {ll:.3f}\")\n",
        "plt.title(\"Testing Data\")\n",
        "plt.xlim(min(test_y), max(test_y))\n",
        "plt.ylim(min(test_y), max(test_y))\n",
        "plt.gca().set_aspect('equal')\n",
        "plt.xlabel('True Solubility')\n",
        "plt.ylabel('Test Solubillity')\n",
        "plt.savefig(\"rnn-fit.png\", dpi=300)\n",
        "plt.show()"
      ]
    },
    {
      "cell_type": "code",
      "execution_count": null,
      "metadata": {
        "id": "msaipJ84sWGo",
        "colab": {
          "base_uri": "https://localhost:8080/"
        },
        "outputId": "87651a5e-6219-470d-8cea-7254066d7aa8"
      },
      "outputs": [
        {
          "output_type": "stream",
          "name": "stdout",
          "text": [
            "WARNING:tensorflow:Compiled the loaded model, but the compiled metrics have yet to be built. `model.compile_metrics` will be empty until you train or evaluate the model.\n",
            "WARNING:tensorflow:Compiled the loaded model, but the compiled metrics have yet to be built. `model.compile_metrics` will be empty until you train or evaluate the model.\n",
            "WARNING:tensorflow:Compiled the loaded model, but the compiled metrics have yet to be built. `model.compile_metrics` will be empty until you train or evaluate the model.\n",
            "WARNING:tensorflow:Compiled the loaded model, but the compiled metrics have yet to be built. `model.compile_metrics` will be empty until you train or evaluate the model.\n",
            "WARNING:tensorflow:Compiled the loaded model, but the compiled metrics have yet to be built. `model.compile_metrics` will be empty until you train or evaluate the model.\n",
            "WARNING:tensorflow:Compiled the loaded model, but the compiled metrics have yet to be built. `model.compile_metrics` will be empty until you train or evaluate the model.\n",
            "WARNING:tensorflow:Compiled the loaded model, but the compiled metrics have yet to be built. `model.compile_metrics` will be empty until you train or evaluate the model.\n",
            "WARNING:tensorflow:Compiled the loaded model, but the compiled metrics have yet to be built. `model.compile_metrics` will be empty until you train or evaluate the model.\n"
          ]
        }
      ],
      "source": [
        "import tensorflowjs as tfjs\n",
        "import json\n",
        "\n",
        "\n",
        "quantize_map = {'float16': '*'}\n",
        "for i,m in enumerate(model.models):\n",
        "  nm = build_inf_model()\n",
        "  nm.set_weights(m.get_weights())\n",
        "  # call to make sure it's built\n",
        "  nm(x)\n",
        "  tfjs.converters.save_keras_model(nm, f\"models/{i}\")\n",
        "  tfjs.converters.save_keras_model(nm, f\"models/{i}-q\", quantization_dtype_map=quantize_map)\n",
        "\n"
      ]
    },
    {
      "cell_type": "code",
      "execution_count": null,
      "metadata": {
        "id": "EV0erAt1v5uA"
      },
      "outputs": [],
      "source": [
        "with open('vocab.json', 'w') as f:\n",
        "  json.dump(dict(vocab=vocab, vocab_stoi=vocab_stoi), f)"
      ]
    },
    {
      "cell_type": "code",
      "execution_count": null,
      "metadata": {
        "id": "haqRdMW7vuos",
        "colab": {
          "base_uri": "https://localhost:8080/"
        },
        "outputId": "6c282426-59f8-443b-b949-7333838fd7a3"
      },
      "outputs": [
        {
          "output_type": "stream",
          "name": "stdout",
          "text": [
            "{\n",
            " \"title\": \"Solubility Prediction\",\n",
            " \"details\": \"Solubility predictor with uncertainty. Model is a bidirectional LSTM that predict standard deviation and mean. An esnemble of 5 is combined for predictions. Epistemic uncertainty comes from model disagreement.\",\n",
            " \"use\": \"Organic molecules\",\n",
            " \"factors\": \"Model may not generalize to large molecules, very soluble (< -12.5 logS), and highly soluble (> 1 logS), ions, or metals.\",\n",
            " \"metrics\": \"Test correlation -0.16. Test MAE 1.82\",\n",
            " \"evaluation\": \"Withheld examples (test data)\",\n",
            " \"training\": \"9982 molecules, which was augmented to 97154 molecules.\",\n",
            " \"caveats\": \"Check the parity plot to see where your molecule falls relative to the training curve.\",\n",
            " \"ethics\": \"None noted\",\n",
            " \"image\": \"https://raw.githubusercontent.com/ur-whitelab/exmol.io/main/models/rnn-fit.png\"\n",
            "}\n"
          ]
        }
      ],
      "source": [
        "model_card = {\n",
        "    'title': 'Solubility Prediction',\n",
        "    'details': 'Solubility predictor with uncertainty. Model is a bidirectional LSTM that predict standard deviation and mean. An esnemble of 5 is combined for predictions. Epistemic uncertainty comes from model disagreement.',\n",
        "    'use': 'Organic molecules',\n",
        "    'factors': 'Model may not generalize to large molecules, very soluble (< -12.5 logS), and highly soluble (> 1 logS), ions, or metals.',\n",
        "    'metrics': f'Test correlation {metric_r:.2f}. Test MAE {metric_mae:.2f}',\n",
        "    'evaluation': 'Withheld examples (test data)',\n",
        "    'training': f'{len(soldata.SMILES)} molecules, which was augmented to {len(aug_smiles)} molecules.',\n",
        "    'caveats': 'Check the parity plot to see where your molecule falls relative to the training curve.',\n",
        "    'ethics': 'None noted',\n",
        "    'image': 'https://raw.githubusercontent.com/ur-whitelab/exmol.io/main/models/rnn-fit.png'\n",
        "}\n",
        "with open('card.json', 'w') as f:\n",
        "  json.dump(model_card, f)\n",
        "print(json.dumps(model_card, indent=True))"
      ]
    },
    {
      "cell_type": "code",
      "execution_count": null,
      "metadata": {
        "id": "zJ_iZKXM0jWV",
        "colab": {
          "base_uri": "https://localhost:8080/",
          "height": 499
        },
        "outputId": "f766665a-8bef-41d7-bfb8-a12802b05502"
      },
      "outputs": [
        {
          "output_type": "stream",
          "name": "stdout",
          "text": [
            "  adding: models/0/ (stored 0%)\n",
            "  adding: models/0/model.json (deflated 84%)\n",
            "  adding: models/0/group1-shard1of1.bin (deflated 6%)\n",
            "  adding: models/0-q/ (stored 0%)\n",
            "  adding: models/0-q/model.json (deflated 87%)\n",
            "  adding: models/0-q/group1-shard1of1.bin (deflated 40%)\n",
            "  adding: models/1/ (stored 0%)\n",
            "  adding: models/1/model.json (deflated 85%)\n",
            "  adding: models/1/group1-shard1of1.bin (deflated 6%)\n",
            "  adding: models/1-q/ (stored 0%)\n",
            "  adding: models/1-q/model.json (deflated 87%)\n",
            "  adding: models/1-q/group1-shard1of1.bin (deflated 37%)\n",
            "  adding: models/2/ (stored 0%)\n",
            "  adding: models/2/model.json (deflated 84%)\n",
            "  adding: models/2/group1-shard1of1.bin (deflated 6%)\n",
            "  adding: models/2-q/ (stored 0%)\n",
            "  adding: models/2-q/model.json (deflated 87%)\n",
            "  adding: models/2-q/group1-shard1of1.bin (deflated 39%)\n",
            "  adding: models/3/ (stored 0%)\n",
            "  adding: models/3/model.json (deflated 84%)\n",
            "  adding: models/3/group1-shard1of1.bin (deflated 6%)\n",
            "  adding: models/3-q/ (stored 0%)\n",
            "  adding: models/3-q/model.json (deflated 87%)\n",
            "  adding: models/3-q/group1-shard1of1.bin (deflated 34%)\n",
            "  adding: card.json (deflated 41%)\n",
            "  adding: vocab.json (deflated 68%)\n",
            "  adding: rnn-fit.png (deflated 15%)\n"
          ]
        },
        {
          "output_type": "display_data",
          "data": {
            "text/plain": [
              "<IPython.core.display.Javascript object>"
            ],
            "application/javascript": [
              "\n",
              "    async function download(id, filename, size) {\n",
              "      if (!google.colab.kernel.accessAllowed) {\n",
              "        return;\n",
              "      }\n",
              "      const div = document.createElement('div');\n",
              "      const label = document.createElement('label');\n",
              "      label.textContent = `Downloading \"${filename}\": `;\n",
              "      div.appendChild(label);\n",
              "      const progress = document.createElement('progress');\n",
              "      progress.max = size;\n",
              "      div.appendChild(progress);\n",
              "      document.body.appendChild(div);\n",
              "\n",
              "      const buffers = [];\n",
              "      let downloaded = 0;\n",
              "\n",
              "      const channel = await google.colab.kernel.comms.open(id);\n",
              "      // Send a message to notify the kernel that we're ready.\n",
              "      channel.send({})\n",
              "\n",
              "      for await (const message of channel.messages) {\n",
              "        // Send a message to notify the kernel that we're ready.\n",
              "        channel.send({})\n",
              "        if (message.buffers) {\n",
              "          for (const buffer of message.buffers) {\n",
              "            buffers.push(buffer);\n",
              "            downloaded += buffer.byteLength;\n",
              "            progress.value = downloaded;\n",
              "          }\n",
              "        }\n",
              "      }\n",
              "      const blob = new Blob(buffers, {type: 'application/binary'});\n",
              "      const a = document.createElement('a');\n",
              "      a.href = window.URL.createObjectURL(blob);\n",
              "      a.download = filename;\n",
              "      div.appendChild(a);\n",
              "      a.click();\n",
              "      div.remove();\n",
              "    }\n",
              "  "
            ]
          },
          "metadata": {}
        },
        {
          "output_type": "display_data",
          "data": {
            "text/plain": [
              "<IPython.core.display.Javascript object>"
            ],
            "application/javascript": [
              "download(\"download_3bf895e7-6029-4977-9d76-3676a07f8684\", \"sol-model.zip\", 3012203)"
            ]
          },
          "metadata": {}
        }
      ],
      "source": [
        "!zip -r sol-model.zip models/* *json rnn-fit.png\n",
        "from google.colab import files\n",
        "files.download( 'sol-model.zip' )"
      ]
    },
    {
      "cell_type": "code",
      "execution_count": null,
      "metadata": {
        "id": "8YoliVEp1QmG"
      },
      "outputs": [],
      "source": []
    }
  ],
  "metadata": {
    "accelerator": "GPU",
    "colab": {
      "collapsed_sections": [],
      "machine_shape": "hm",
      "provenance": []
    },
    "kernelspec": {
      "display_name": "Python 3",
      "name": "python3"
    },
    "language_info": {
      "name": "python"
    },
    "widgets": {
      "application/vnd.jupyter.widget-state+json": {
        "ef6992b0ef6b4ec0adb89eb168ca6519": {
          "model_module": "@jupyter-widgets/controls",
          "model_name": "HBoxModel",
          "model_module_version": "1.5.0",
          "state": {
            "_dom_classes": [],
            "_model_module": "@jupyter-widgets/controls",
            "_model_module_version": "1.5.0",
            "_model_name": "HBoxModel",
            "_view_count": null,
            "_view_module": "@jupyter-widgets/controls",
            "_view_module_version": "1.5.0",
            "_view_name": "HBoxView",
            "box_style": "",
            "children": [
              "IPY_MODEL_4ad878d634f7486295c821a49c1b5dc2",
              "IPY_MODEL_a9822f73aac6460da627d1d015d2e3f2",
              "IPY_MODEL_b2aa7b77797648bb8a0ad15f3b3c0243"
            ],
            "layout": "IPY_MODEL_4a6065a524984067938393053bb6303e"
          }
        },
        "4ad878d634f7486295c821a49c1b5dc2": {
          "model_module": "@jupyter-widgets/controls",
          "model_name": "HTMLModel",
          "model_module_version": "1.5.0",
          "state": {
            "_dom_classes": [],
            "_model_module": "@jupyter-widgets/controls",
            "_model_module_version": "1.5.0",
            "_model_name": "HTMLModel",
            "_view_count": null,
            "_view_module": "@jupyter-widgets/controls",
            "_view_module_version": "1.5.0",
            "_view_name": "HTMLView",
            "description": "",
            "description_tooltip": null,
            "layout": "IPY_MODEL_cf290422ec1a4261a12178f388ad9028",
            "placeholder": "​",
            "style": "IPY_MODEL_a18fe43c9de64e86b7ab7132372905eb",
            "value": "100%"
          }
        },
        "a9822f73aac6460da627d1d015d2e3f2": {
          "model_module": "@jupyter-widgets/controls",
          "model_name": "FloatProgressModel",
          "model_module_version": "1.5.0",
          "state": {
            "_dom_classes": [],
            "_model_module": "@jupyter-widgets/controls",
            "_model_module_version": "1.5.0",
            "_model_name": "FloatProgressModel",
            "_view_count": null,
            "_view_module": "@jupyter-widgets/controls",
            "_view_module_version": "1.5.0",
            "_view_name": "ProgressView",
            "bar_style": "success",
            "description": "",
            "description_tooltip": null,
            "layout": "IPY_MODEL_9a820ad5aeba4e0dbff6eafed9a76084",
            "max": 1214,
            "min": 0,
            "orientation": "horizontal",
            "style": "IPY_MODEL_5f85c9411333464c84ab9d65e834fa59",
            "value": 1214
          }
        },
        "b2aa7b77797648bb8a0ad15f3b3c0243": {
          "model_module": "@jupyter-widgets/controls",
          "model_name": "HTMLModel",
          "model_module_version": "1.5.0",
          "state": {
            "_dom_classes": [],
            "_model_module": "@jupyter-widgets/controls",
            "_model_module_version": "1.5.0",
            "_model_name": "HTMLModel",
            "_view_count": null,
            "_view_module": "@jupyter-widgets/controls",
            "_view_module_version": "1.5.0",
            "_view_name": "HTMLView",
            "description": "",
            "description_tooltip": null,
            "layout": "IPY_MODEL_17d9383b3caa483a804d3bf710131cc7",
            "placeholder": "​",
            "style": "IPY_MODEL_0d381136293f45939498453d0c34077b",
            "value": " 1214/1214 [01:21&lt;00:00, 18.06it/s]"
          }
        },
        "4a6065a524984067938393053bb6303e": {
          "model_module": "@jupyter-widgets/base",
          "model_name": "LayoutModel",
          "model_module_version": "1.2.0",
          "state": {
            "_model_module": "@jupyter-widgets/base",
            "_model_module_version": "1.2.0",
            "_model_name": "LayoutModel",
            "_view_count": null,
            "_view_module": "@jupyter-widgets/base",
            "_view_module_version": "1.2.0",
            "_view_name": "LayoutView",
            "align_content": null,
            "align_items": null,
            "align_self": null,
            "border": null,
            "bottom": null,
            "display": null,
            "flex": null,
            "flex_flow": null,
            "grid_area": null,
            "grid_auto_columns": null,
            "grid_auto_flow": null,
            "grid_auto_rows": null,
            "grid_column": null,
            "grid_gap": null,
            "grid_row": null,
            "grid_template_areas": null,
            "grid_template_columns": null,
            "grid_template_rows": null,
            "height": null,
            "justify_content": null,
            "justify_items": null,
            "left": null,
            "margin": null,
            "max_height": null,
            "max_width": null,
            "min_height": null,
            "min_width": null,
            "object_fit": null,
            "object_position": null,
            "order": null,
            "overflow": null,
            "overflow_x": null,
            "overflow_y": null,
            "padding": null,
            "right": null,
            "top": null,
            "visibility": null,
            "width": null
          }
        },
        "cf290422ec1a4261a12178f388ad9028": {
          "model_module": "@jupyter-widgets/base",
          "model_name": "LayoutModel",
          "model_module_version": "1.2.0",
          "state": {
            "_model_module": "@jupyter-widgets/base",
            "_model_module_version": "1.2.0",
            "_model_name": "LayoutModel",
            "_view_count": null,
            "_view_module": "@jupyter-widgets/base",
            "_view_module_version": "1.2.0",
            "_view_name": "LayoutView",
            "align_content": null,
            "align_items": null,
            "align_self": null,
            "border": null,
            "bottom": null,
            "display": null,
            "flex": null,
            "flex_flow": null,
            "grid_area": null,
            "grid_auto_columns": null,
            "grid_auto_flow": null,
            "grid_auto_rows": null,
            "grid_column": null,
            "grid_gap": null,
            "grid_row": null,
            "grid_template_areas": null,
            "grid_template_columns": null,
            "grid_template_rows": null,
            "height": null,
            "justify_content": null,
            "justify_items": null,
            "left": null,
            "margin": null,
            "max_height": null,
            "max_width": null,
            "min_height": null,
            "min_width": null,
            "object_fit": null,
            "object_position": null,
            "order": null,
            "overflow": null,
            "overflow_x": null,
            "overflow_y": null,
            "padding": null,
            "right": null,
            "top": null,
            "visibility": null,
            "width": null
          }
        },
        "a18fe43c9de64e86b7ab7132372905eb": {
          "model_module": "@jupyter-widgets/controls",
          "model_name": "DescriptionStyleModel",
          "model_module_version": "1.5.0",
          "state": {
            "_model_module": "@jupyter-widgets/controls",
            "_model_module_version": "1.5.0",
            "_model_name": "DescriptionStyleModel",
            "_view_count": null,
            "_view_module": "@jupyter-widgets/base",
            "_view_module_version": "1.2.0",
            "_view_name": "StyleView",
            "description_width": ""
          }
        },
        "9a820ad5aeba4e0dbff6eafed9a76084": {
          "model_module": "@jupyter-widgets/base",
          "model_name": "LayoutModel",
          "model_module_version": "1.2.0",
          "state": {
            "_model_module": "@jupyter-widgets/base",
            "_model_module_version": "1.2.0",
            "_model_name": "LayoutModel",
            "_view_count": null,
            "_view_module": "@jupyter-widgets/base",
            "_view_module_version": "1.2.0",
            "_view_name": "LayoutView",
            "align_content": null,
            "align_items": null,
            "align_self": null,
            "border": null,
            "bottom": null,
            "display": null,
            "flex": null,
            "flex_flow": null,
            "grid_area": null,
            "grid_auto_columns": null,
            "grid_auto_flow": null,
            "grid_auto_rows": null,
            "grid_column": null,
            "grid_gap": null,
            "grid_row": null,
            "grid_template_areas": null,
            "grid_template_columns": null,
            "grid_template_rows": null,
            "height": null,
            "justify_content": null,
            "justify_items": null,
            "left": null,
            "margin": null,
            "max_height": null,
            "max_width": null,
            "min_height": null,
            "min_width": null,
            "object_fit": null,
            "object_position": null,
            "order": null,
            "overflow": null,
            "overflow_x": null,
            "overflow_y": null,
            "padding": null,
            "right": null,
            "top": null,
            "visibility": null,
            "width": null
          }
        },
        "5f85c9411333464c84ab9d65e834fa59": {
          "model_module": "@jupyter-widgets/controls",
          "model_name": "ProgressStyleModel",
          "model_module_version": "1.5.0",
          "state": {
            "_model_module": "@jupyter-widgets/controls",
            "_model_module_version": "1.5.0",
            "_model_name": "ProgressStyleModel",
            "_view_count": null,
            "_view_module": "@jupyter-widgets/base",
            "_view_module_version": "1.2.0",
            "_view_name": "StyleView",
            "bar_color": null,
            "description_width": ""
          }
        },
        "17d9383b3caa483a804d3bf710131cc7": {
          "model_module": "@jupyter-widgets/base",
          "model_name": "LayoutModel",
          "model_module_version": "1.2.0",
          "state": {
            "_model_module": "@jupyter-widgets/base",
            "_model_module_version": "1.2.0",
            "_model_name": "LayoutModel",
            "_view_count": null,
            "_view_module": "@jupyter-widgets/base",
            "_view_module_version": "1.2.0",
            "_view_name": "LayoutView",
            "align_content": null,
            "align_items": null,
            "align_self": null,
            "border": null,
            "bottom": null,
            "display": null,
            "flex": null,
            "flex_flow": null,
            "grid_area": null,
            "grid_auto_columns": null,
            "grid_auto_flow": null,
            "grid_auto_rows": null,
            "grid_column": null,
            "grid_gap": null,
            "grid_row": null,
            "grid_template_areas": null,
            "grid_template_columns": null,
            "grid_template_rows": null,
            "height": null,
            "justify_content": null,
            "justify_items": null,
            "left": null,
            "margin": null,
            "max_height": null,
            "max_width": null,
            "min_height": null,
            "min_width": null,
            "object_fit": null,
            "object_position": null,
            "order": null,
            "overflow": null,
            "overflow_x": null,
            "overflow_y": null,
            "padding": null,
            "right": null,
            "top": null,
            "visibility": null,
            "width": null
          }
        },
        "0d381136293f45939498453d0c34077b": {
          "model_module": "@jupyter-widgets/controls",
          "model_name": "DescriptionStyleModel",
          "model_module_version": "1.5.0",
          "state": {
            "_model_module": "@jupyter-widgets/controls",
            "_model_module_version": "1.5.0",
            "_model_name": "DescriptionStyleModel",
            "_view_count": null,
            "_view_module": "@jupyter-widgets/base",
            "_view_module_version": "1.2.0",
            "_view_name": "StyleView",
            "description_width": ""
          }
        }
      }
    }
  },
  "nbformat": 4,
  "nbformat_minor": 0
}